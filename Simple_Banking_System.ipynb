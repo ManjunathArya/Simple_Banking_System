{
  "nbformat": 4,
  "nbformat_minor": 0,
  "metadata": {
    "colab": {
      "provenance": []
    },
    "kernelspec": {
      "name": "python3",
      "display_name": "Python 3"
    },
    "language_info": {
      "name": "python"
    }
  },
  "cells": [
    {
      "cell_type": "markdown",
      "source": [
        "Simple Banking System."
      ],
      "metadata": {
        "id": "Dgvkay_IlTFr"
      }
    },
    {
      "cell_type": "code",
      "source": [
        "acc = 123456789\n",
        "attempts = 3\n",
        "while attempts > 0:\n",
        "    try:\n",
        "        account_number = input(\"Enter the account number: \")\n",
        "        if account_number.lower() == \"exit\":\n",
        "            print(\"Exiting the program.\")\n",
        "            break\n",
        "        account_number = int(account_number)\n",
        "        if account_number == acc:\n",
        "            # Ask for the account type (Savings = 1 or Credit = 2)\n",
        "            account_type = input(\"Enter account type (1 or 2): \").lower()\n",
        "            if account_type not in [\"1\", \"2\"]:\n",
        "                print(\"Invalid account type. Please enter '1' or '2'.\")\n",
        "                continue  # Go back to the account type\n",
        "            account_balance = float(input(\"Enter the account balance: \"))\n",
        "            withdrawal = float(input(\"Enter the amount you want to withdraw: \"))\n",
        "            if withdrawal <= 0:\n",
        "                print(\"Enter a valid withdrawal amount.\")\n",
        "            elif withdrawal > account_balance:\n",
        "                print(\"Insufficient balance.\")\n",
        "            else:\n",
        "                # Successful transaction\n",
        "                print(f\"Account Type: {account_type}\")\n",
        "                print(f\"The entered withdrawal amount is = {withdrawal}\")\n",
        "                print(\"Collect the cash.\")\n",
        "                print(f\"The remaining balance is = {account_balance - withdrawal}\")\n",
        "            break\n",
        "        else:\n",
        "            attempts -= 1\n",
        "            print(f\"Incorrect account number entered. {attempts} attempts left.\")\n",
        "    except ValueError:\n",
        "        print(\"Please enter numeric values only.\")\n",
        "if attempts == 0:\n",
        "    print(\"Maximum attempts reached. Exiting the program.\")\n"
      ],
      "metadata": {
        "colab": {
          "base_uri": "https://localhost:8080/"
        },
        "id": "ZY_Upo7dfmdH",
        "outputId": "2b2a698d-f622-47d3-8c9b-34f575b797c3"
      },
      "execution_count": 1,
      "outputs": [
        {
          "output_type": "stream",
          "name": "stdout",
          "text": [
            "Enter the account number: 123456789\n",
            "Enter account type (1 or 2): 1\n",
            "Enter the account balance: 15000\n",
            "Enter the amount you want to withdraw: 100\n",
            "Account Type: 1\n",
            "The entered withdrawal amount is = 100.0\n",
            "Collect the cash.\n",
            "The remaining balance is = 14900.0\n"
          ]
        }
      ]
    },
    {
      "cell_type": "markdown",
      "source": [
        "If the 3 attempts is done the program will get exit as shown below."
      ],
      "metadata": {
        "id": "oEFTbxyxk5Y2"
      }
    },
    {
      "cell_type": "code",
      "source": [
        "acc = 123456789\n",
        "attempts = 3\n",
        "while attempts > 0:\n",
        "    try:\n",
        "        account_number = input(\"Enter the account number: \")\n",
        "        if account_number.lower() == \"exit\":\n",
        "            print(\"Exiting the program.\")\n",
        "            break\n",
        "        account_number = int(account_number)\n",
        "        if account_number == acc:\n",
        "            # Ask for the account type (Savings = 1 or Credit = 2)\n",
        "            account_type = input(\"Enter account type (1 or 2): \").lower()\n",
        "            if account_type not in [\"1\", \"2\"]:\n",
        "                print(\"Invalid account type. Please enter '1' or '2'.\")\n",
        "                continue  # Go back to the account type\n",
        "            account_balance = float(input(\"Enter the account balance: \"))\n",
        "            withdrawal = float(input(\"Enter the amount you want to withdraw: \"))\n",
        "            if withdrawal <= 0:\n",
        "                print(\"Enter a valid withdrawal amount.\")\n",
        "            elif withdrawal > account_balance:\n",
        "                print(\"Insufficient balance.\")\n",
        "            else:\n",
        "                # Successful transaction\n",
        "                print(f\"Account Type: {account_type}\")\n",
        "                print(f\"The entered withdrawal amount is = {withdrawal}\")\n",
        "                print(\"Collect the cash.\")\n",
        "                print(f\"The remaining balance is = {account_balance - withdrawal}\")\n",
        "            break\n",
        "        else:\n",
        "            attempts -= 1\n",
        "            print(f\"Incorrect account number entered. {attempts} attempts left.\")\n",
        "    except ValueError:\n",
        "        print(\"Please enter numeric values only.\")\n",
        "if attempts == 0:\n",
        "    print(\"Maximum attempts reached. Exiting the program.\")"
      ],
      "metadata": {
        "colab": {
          "base_uri": "https://localhost:8080/"
        },
        "id": "jour-gVflASD",
        "outputId": "a11f16a2-8fdc-4884-acc3-7eaf8b2896fe"
      },
      "execution_count": 2,
      "outputs": [
        {
          "output_type": "stream",
          "name": "stdout",
          "text": [
            "Enter the account number: \n",
            "Please enter numeric values only.\n",
            "Enter the account number: 612121\n",
            "Incorrect account number entered. 2 attempts left.\n",
            "Enter the account number: 16121\n",
            "Incorrect account number entered. 1 attempts left.\n",
            "Enter the account number: 21\n",
            "Incorrect account number entered. 0 attempts left.\n",
            "Maximum attempts reached. Exiting the program.\n"
          ]
        }
      ]
    },
    {
      "cell_type": "code",
      "source": [],
      "metadata": {
        "id": "6bPMGW0mlDYH"
      },
      "execution_count": null,
      "outputs": []
    }
  ]
}